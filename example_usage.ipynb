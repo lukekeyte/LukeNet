{
 "cells": [
  {
   "cell_type": "code",
   "execution_count": null,
   "metadata": {},
   "outputs": [],
   "source": [
    "import lukenet\n",
    "import lukenet_helpers as helpers\n",
    "import matplotlib.pyplot as plt\n",
    "import numpy as np"
   ]
  },
  {
   "cell_type": "markdown",
   "metadata": {},
   "source": [
    "#### Selecting Input Data for the LukeNet Model\n",
    "\n",
    "We start by extracting outputs from the **DALI benchmark model**. Here are the details:\n",
    "\n",
    "- **DALI Benchmark Models** are located in the folder `benchmark/`.\n",
    "- The suffix of each model file represents the chemical timescale.\n",
    "  - For example: `benchmark_dali_1e6` corresponds to model data for **1 Myr**.\n",
    "- The **DALI models** are run on a **100 x 80 grid** (r x z).\n",
    "  - Select a grid cell below. The helper function will then print out relevant properties.\n",
    "  - Note that the values are indices (not distances in AU!)"
   ]
  },
  {
   "cell_type": "code",
   "execution_count": null,
   "metadata": {},
   "outputs": [],
   "source": [
    "r_cell, z_cell = 70, 20\n",
    "helpers.print_dali_cell('benchmark/benchmark_dali_1e6/out.dat', r_cell, z_cell)"
   ]
  },
  {
   "cell_type": "markdown",
   "metadata": {},
   "source": [
    "#### Copying Data into the LukeNet Input File\n",
    "\n",
    "Now copy and paste the entire block of data above into the LukeNet input file (`lukenet_inputs.py`):\n",
    "\n",
    "- The data is already formatted exactly as needed when printed by the helper function.\n",
    "- Simply copy and paste the entire block into the input file, below where it says `# Extracted from DALI model...`\n",
    "- The values that are already in the input file are for cells (70,20), which are a default for testing, but you can change to any you want\n",
    "\n",
    "**Important:**  \n",
    "Do **NOT** change the four inputs below the DALI parameters (Zeta_CR, pah_ism, t_chem, netork) — these remain fixed across all models.\n"
   ]
  },
  {
   "cell_type": "markdown",
   "metadata": {},
   "source": [
    "#### Running the LukeNet Model\n",
    "\n",
    "After saving the input file, you can run the LukeNet model. Typical usage is shown below:\n",
    "\n",
    "- A progress bar should be displayed.\n",
    "- Using the default values above (r=70, z=20), the model should finish in ~10 seconds. Other sets of input parameters will lead to variations in compute time.\n",
    "\n",
    "- The output is saved to `result`, which is a dictionary containing key information such as:\n",
    "  - Abundances\n",
    "  - Reaction rates\n",
    "  - Other important data"
   ]
  },
  {
   "cell_type": "code",
   "execution_count": null,
   "metadata": {},
   "outputs": [],
   "source": [
    "# Run LukeNet()\n",
    "network = lukenet.Lukenet()\n",
    "network.init_lukenet()\n",
    "result = network.solve_network()"
   ]
  },
  {
   "cell_type": "markdown",
   "metadata": {},
   "source": [
    "#### Plotting the Results and Comparing to DALI Benchmark Models\n",
    "\n",
    "Now it's time to plot the results and compare them to the DALI benchmark models:\n",
    "\n",
    "1. **Import the Data** from the DALI models (as shown in the first block below).\n",
    "   - This may take 1-2 minutes.\n",
    "2. **Plot Abundances vs. Time** (second block below):\n",
    "   - DALI data will be represented as **scatter points**.\n",
    "   - LukeNet data will be shown as **solid lines**.\n",
    "   - For the default values `(70,20)`, you should find excellent agreement between DALI/LukeNet\n",
    "   \n",
    "**Note:**  \n",
    "- Only a subset of all species is displayed for clarity.  \n",
    "- You can edit the species list to include any species you want, **as long as they are included in the chemical network**.\n"
   ]
  },
  {
   "cell_type": "code",
   "execution_count": null,
   "metadata": {},
   "outputs": [],
   "source": [
    "# Import DALI benchmark data\n",
    "dali_1em4 = helpers.read_outdat('benchmark/benchmark_dali_1e-4/out.dat')\n",
    "dali_1em3 = helpers.read_outdat('benchmark/benchmark_dali_1e-3/out.dat')\n",
    "dali_1em2 = helpers.read_outdat('benchmark/benchmark_dali_1e-2/out.dat')\n",
    "dali_1em1 = helpers.read_outdat('benchmark/benchmark_dali_1e-1/out.dat')\n",
    "dali_1e0  = helpers.read_outdat('benchmark/benchmark_dali_1e0/out.dat')\n",
    "dali_1e1  = helpers.read_outdat('benchmark/benchmark_dali_1e1/out.dat')\n",
    "dali_1e2  = helpers.read_outdat('benchmark/benchmark_dali_1e2/out.dat')\n",
    "dali_1e3  = helpers.read_outdat('benchmark/benchmark_dali_1e3/out.dat')\n",
    "dali_1e4  = helpers.read_outdat('benchmark/benchmark_dali_1e4/out.dat')\n",
    "dali_1e5  = helpers.read_outdat('benchmark/benchmark_dali_1e5/out.dat')\n",
    "dali_1e6  = helpers.read_outdat('benchmark/benchmark_dali_1e6/out.dat')"
   ]
  },
  {
   "cell_type": "code",
   "execution_count": null,
   "metadata": {},
   "outputs": [],
   "source": [
    "###################\n",
    "# Plot abundances #\n",
    "###################\n",
    "\n",
    "# Species we want to plot...\n",
    "species = ['H', 'H2', 'C', 'N', 'O', 'CO', 'H2O', 'CH4', 'N2', 'JH2O', 'PAH0', 'PAH+', 'PAH-', 'PAH_H', 'CH']\n",
    "\n",
    "\n",
    "# DALI models\n",
    "model_list = [dali_1em4, dali_1em3, dali_1em2, dali_1em1, dali_1e0, dali_1e1, dali_1e2, dali_1e3, dali_1e4, dali_1e5, dali_1e6]\n",
    "time_dali  = [1e-4, 1e-3, 1e-2, 1e-1, 1e0, 1e1, 1e2, 1e3, 1e4, 1e5, 1e6]\n",
    "\n",
    "abu_list = []\n",
    "for model in model_list:\n",
    "    abu_list_temp = [(np.array(model[specie])[r_cell, z_cell] / np.array(model['n_gas'])[r_cell, z_cell]) for specie in species]\n",
    "    abu_list.append(abu_list_temp)\n",
    "    \n",
    "dali_abundances = np.array(abu_list)\n",
    "\n",
    "\n",
    "# Set up colors for the plot\n",
    "default_colors  = plt.rcParams[\"axes.prop_cycle\"].by_key()[\"color\"] * 30 \n",
    "color_list      = default_colors[:len(species)]\n",
    "\n",
    "\n",
    "# Plotting\n",
    "fig = plt.figure(figsize=(8,6))\n",
    "\n",
    "for i in range(0, len(species)):\n",
    "    idx_specie = network.species.name.index(species[i])\n",
    "    # LukeNet\n",
    "    plt.loglog(result['time'] / network.parameters.yr_sec, result['abundances'][idx_specie]/network.gas.n_gas, alpha=0.6, color=color_list[i])\n",
    "    # DALI\n",
    "    plt.scatter(time_dali, dali_abundances[:, i], alpha=0.6, color=color_list[i], s=20)\n",
    "    \n",
    "    plt.annotate(network.species.name[idx_specie], (1.5*result['time'][-1] / network.parameters.yr_sec, (result['abundances'][idx_specie][-1]/network.gas.n_gas)), fontsize=10, color=color_list[i], alpha=0.7)\n",
    "    plt.annotate(network.species.name[idx_specie], (0.3*result['time'][0] / network.parameters.yr_sec, (result['abundances'][idx_specie][0]/network.gas.n_gas)), fontsize=8, color=color_list[i], alpha=0.7)\n",
    "\n",
    "plt.xlabel('Time (years)', fontsize=12)\n",
    "plt.ylabel('Abundance (X/H)', fontsize=12)\n",
    "\n",
    "plt.xlim(1e-3, 5e6)\n",
    "plt.ylim(1e-12, 3)\n",
    "plt.tight_layout()\n",
    "plt.show()"
   ]
  },
  {
   "cell_type": "code",
   "execution_count": null,
   "metadata": {},
   "outputs": [],
   "source": []
  }
 ],
 "metadata": {
  "kernelspec": {
   "display_name": "base",
   "language": "python",
   "name": "python3"
  },
  "language_info": {
   "codemirror_mode": {
    "name": "ipython",
    "version": 3
   },
   "file_extension": ".py",
   "mimetype": "text/x-python",
   "name": "python",
   "nbconvert_exporter": "python",
   "pygments_lexer": "ipython3",
   "version": "3.11.7"
  }
 },
 "nbformat": 4,
 "nbformat_minor": 2
}
